{
  "nbformat": 4,
  "nbformat_minor": 0,
  "metadata": {
    "colab": {
      "provenance": []
    },
    "kernelspec": {
      "name": "python3",
      "display_name": "Python 3"
    },
    "language_info": {
      "name": "python"
    }
  },
  "cells": [
    {
      "cell_type": "markdown",
      "source": [
        "# Simple Chat Agent"
      ],
      "metadata": {
        "id": "Yu_M7nwWGs1x"
      }
    },
    {
      "cell_type": "code",
      "source": [
        "!pip install --index-url https://test.pypi.org/simple/ --extra-index-url https://pypi.org/simple/ groclake==0.1.28"
      ],
      "metadata": {
        "id": "HxnfEq19J_Hb"
      },
      "execution_count": null,
      "outputs": []
    },
    {
      "cell_type": "code",
      "execution_count": null,
      "metadata": {
        "colab": {
          "base_uri": "https://localhost:8080/"
        },
        "id": "VaNphdalDR0k",
        "outputId": "92f92c17-7d80-44f1-e3fb-8170e91395bb"
      },
      "outputs": [
        {
          "metadata": {
            "tags": null
          },
          "name": "stdout",
          "output_type": "stream",
          "text": [
            " * Serving Flask app '__main__'\n",
            " * Debug mode: on\n"
          ]
        },
        {
          "metadata": {
            "tags": null
          },
          "name": "stderr",
          "output_type": "stream",
          "text": [
            "INFO:werkzeug:\u001b[31m\u001b[1mWARNING: This is a development server. Do not use it in a production deployment. Use a production WSGI server instead.\u001b[0m\n",
            " * Running on all addresses (0.0.0.0)\n",
            " * Running on http://127.0.0.1:20003\n",
            " * Running on http://172.28.0.12:20003\n",
            "INFO:werkzeug:\u001b[33mPress CTRL+C to quit\u001b[0m\n",
            "INFO:werkzeug: * Restarting with stat\n"
          ]
        }
      ],
      "source": [
        "from flask import Flask\n",
        "\n",
        "from groclake.modellake import Modellake\n",
        "from groclake.utillake import GrocAgent\n",
        "\n",
        "\n",
        "app = Flask(__name__)\n",
        "class ChatAgent(GrocAgent):\n",
        "\n",
        "    def __init__(self, app, agent_name, initial_intent=None, intent_description=None, adaptor_config=None):\n",
        "        super().__init__(app, agent_name, initial_intent, intent_description, self.default_handler, adaptor_config)\n",
        "\n",
        "    def default_handler(self, payload):\n",
        "        try:\n",
        "            query_text = payload.get('query_text', 'No query provided')\n",
        "            intent = payload.get('intent', 'default_chat')\n",
        "            entities = payload.get('entities', [])\n",
        "            metadata = payload.get('metadata', {})\n",
        "\n",
        "            chat_payload = {\n",
        "                \"messages\": [\n",
        "                    {\"role\": \"system\", \"content\": \"You are a helpful assistant. only answer the technical questions \"},\n",
        "                    {\"role\": \"user\", \"content\": query_text}\n",
        "                ],\n",
        "                \"token_size\": 500\n",
        "            }\n",
        "\n",
        "            chat_response = Modellake().chat_complete(chat_payload)\n",
        "            response_text = chat_response.get(\"answer\", \"I'm not sure how to help with that.\")\n",
        "\n",
        "            return {\n",
        "                \"response_text\": response_text,\n",
        "                \"intent\": intent,\n",
        "                \"entities\": entities,\n",
        "                \"metadata\": metadata,\n",
        "                \"query_text\": query_text\n",
        "            }\n",
        "\n",
        "        except Exception as e:\n",
        "            return {\n",
        "                \"response_text\": f\"Error: {str(e)}\",\n",
        "                \"intent\": payload.get('intent', 'default_chat'),\n",
        "                \"metadata\": payload.get('metadata', {}),\n",
        "                \"query_text\": payload.get('query_text', ''),\n",
        "                \"status\": 500\n",
        "            }\n",
        "\n",
        "\n",
        "\n",
        "adaptor_config = {\n",
        "    'apc_id': 'apc_id',\n",
        "    'client_agent_uuid': 'Client-Agent-UUID'\n",
        "}\n",
        "chat_agent = ChatAgent(app, \"ChatAgent\", \"chat\", \"Handles chat queries\", adaptor_config)\n",
        "\n",
        "if __name__ == \"__main__\":\n",
        "    chat_agent.run(host=\"0.0.0.0\", port=20003, debug=True)"
      ]
    },
    {
      "cell_type": "code",
      "source": [
        "request:{\n",
        "   \"groc_account_id\":\"\",\n",
        "  \"header\": {\n",
        "    \"version\": \"1.0\",\n",
        "    \"message\": \"Request\",\n",
        "    \"Content-Type\": \"application/json\",\n",
        "    \"auth_token\": \"Authentication-Token\",\n",
        "    \"apc_id\": \"c9d1c9b9-9f1b-4430-9bd4-6994dc1c89ee\",\n",
        "    \"server_agent_uuid\": \"075fcb88-f25a-4390-a37e-e374a3c2b1df\",\n",
        "    \"client_agent_uuid\": \"Client-Agent-UUID\"\n",
        "  },\n",
        "  \"body\": {\n",
        "    \"query_text\": \"what is AI\",\n",
        "    \"intent\":  \"chat\",\n",
        "    \"entities\": [\n",
        "      {\n",
        "        \"ticket_id\": \"123314141\"\n",
        "      }\n",
        "    ],\n",
        "    \"metadata\": {\n",
        "      \"context\": \"query generated from a support chatbot\",\n",
        "      \"customer_id\": \"895985133\"\n",
        "    }\n",
        "  }\n",
        "}\n",
        "\n",
        "\n",
        "\n",
        "Response:\n",
        "{\n",
        "    \"body\": {\n",
        "        \"entities\": [\n",
        "            {\n",
        "                \"ticket_id\": \"123314141\"\n",
        "            }\n",
        "        ],\n",
        "        \"intent\": \"chat\",\n",
        "        \"metadata\": {\n",
        "            \"context\": \"query generated from a support chatbot\",\n",
        "            \"customer_id\": \"895985133\"\n",
        "        },\n",
        "        \"query_text\": \"what is AI\",\n",
        "        \"response_text\": \"AI, or Artificial Intelligence, refers to the simulation of human intelligence processes by machines, especially computer systems. These processes include learning (the acquisition of information and rules for using the information), reasoning (using the rules to reach approximate or definite conclusions), and self-correction.\\n\\nAI can be categorized as either weak or strong. Weak AI, also known as narrow AI, is an AI system that is designed and trained for a particular task, such as virtual personal assistants like Apple's Siri. Strong AI, also known as artificial general intelligence, is an AI system with generalized human cognitive abilities so that when presented with an unfamiliar task, it has enough intelligence to find a solution.\\n\\nAI technologies include machine learning (where a computer system is fed large amounts of data, which it then uses to learn about that data), neural networks (which aim to replicate the human brain in order to 'teach' computers to think), and natural language processing (the ability of a computer program to understand human speech as it is spoken). AI is used in a wide range of fields including medical diagnosis, stock trading, robot control, law, remote sensing, scientific discovery, and more.\"\n",
        "    },\n",
        "    \"header\": {\n",
        "        \"apc_id\": \"c9d1c9b9-9f1b-4430-9bd4-6994dc1c89ee\",\n",
        "        \"auth_token\": \"Authentication-Token\",\n",
        "        \"client_agent_uuid\": \"Client-Agent-UUID\",\n",
        "        \"content-type\": \"application/json\",\n",
        "        \"message\": \"response\",\n",
        "        \"message_id\": null,\n",
        "        \"server_agent_uuid\": \"075fcb88-f25a-4390-a37e-e374a3c2b1df\",\n",
        "        \"task_id\": null,\n",
        "        \"version\": \"1.0\"\n",
        "    }\n",
        "}"
      ],
      "metadata": {
        "id": "H6h5qGFDDgCY"
      },
      "execution_count": null,
      "outputs": []
    }
  ]
}