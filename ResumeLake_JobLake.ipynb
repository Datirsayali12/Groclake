{
  "nbformat": 4,
  "nbformat_minor": 0,
  "metadata": {
    "colab": {
      "provenance": []
    },
    "kernelspec": {
      "name": "python3",
      "display_name": "Python 3"
    },
    "language_info": {
      "name": "python"
    }
  },
  "cells": [
    {
      "cell_type": "code",
      "execution_count": null,
      "metadata": {
        "id": "oFFtCSYK8tzv"
      },
      "outputs": [],
      "source": [
        "!pip install --index-url https://test.pypi.org/simple/ --extra-index-url https://pypi.org/simple/ groclake==0.1.62"
      ]
    },
    {
      "cell_type": "markdown",
      "source": [
        "#Create .env file and add Elasticsearch and MySQL credentials.\n"
      ],
      "metadata": {
        "id": "BTvoYGKp_Ive"
      }
    },
    {
      "cell_type": "code",
      "source": [
        "# Elasticsearch Configuration\n",
        "ES_HOST=\"elasticsearch.example.com\"  # Replace with your Elasticsearch host\n",
        "ES_PORT=443  # Default port for HTTPS\n",
        "ES_API_KEY=\"your_actual_api_key_here\"  # Replace with your actual API key\n",
        "ES_SCHEMA=\"https\"  # Use \"http\" if not using SSL\n",
        "\n",
        "# MySQL Database Configuration\n",
        "MYSQL_USER=\"root\"\n",
        "MYSQL_PASSWORD=\"mypassword123\"\n",
        "MYSQL_HOST=\"localhost\"\n",
        "MYSQL_PORT=3306\n",
        "MYSQL_DB=\"groclake_db\"\n"
      ],
      "metadata": {
        "id": "UVktvd0E_xWJ"
      },
      "execution_count": null,
      "outputs": []
    },
    {
      "cell_type": "markdown",
      "source": [
        "#Mapping for JobLake"
      ],
      "metadata": {
        "id": "20T5dgOu8xGX"
      }
    },
    {
      "cell_type": "code",
      "source": [
        "joblake_mapping = {\n",
        "    \"properties\": {\n",
        "        \"job_title\": {\"type\": \"text\"},\n",
        "        \"job_department\": {\"type\": \"text\"},\n",
        "        \"job_location\": {\n",
        "            \"properties\": {\n",
        "                \"city\": {\"type\": \"text\"},\n",
        "                \"state\": {\"type\": \"text\"},\n",
        "                \"country\": {\"type\": \"text\"},\n",
        "                \"remote\": {\"type\": \"boolean\"}\n",
        "            }\n",
        "        },\n",
        "        \"company_name\": {\"type\": \"text\"},\n",
        "        \"company_industry\": {\"type\": \"text\"},\n",
        "        \"company_size\": {\"type\": \"keyword\"},\n",
        "        \"employment_type\": {\"type\": \"keyword\"},\n",
        "        \"experience_required\": {\"type\": \"text\"},\n",
        "        \"education_required\": {\n",
        "            \"type\": \"nested\",\n",
        "            \"properties\": {\n",
        "                \"degree\": {\"type\": \"keyword\"},\n",
        "                \"major\": {\"type\": \"text\"},\n",
        "                \"preferred_university\": {\"type\": \"text\"}\n",
        "            }\n",
        "        },\n",
        "        \"skills_required\": {\"type\": \"keyword\"},\n",
        "        \"preferred_certifications\": {\n",
        "            \"type\": \"nested\",\n",
        "            \"properties\": {\n",
        "                \"name\": {\"type\": \"text\"},\n",
        "                \"issuing_organization\": {\"type\": \"text\"}\n",
        "            }\n",
        "        },\n",
        "        \"job_responsibilities\": {\"type\": \"text\"},\n",
        "        \"preferred_experience\": {\n",
        "            \"type\": \"nested\",\n",
        "            \"properties\": {\n",
        "                \"designation\": {\"type\": \"text\"},\n",
        "                \"industry\": {\"type\": \"text\"},\n",
        "                \"company_type\": {\"type\": \"text\"},\n",
        "                \"min_years\": {\"type\": \"integer\"},\n",
        "                \"max_years\": {\"type\": \"integer\"}\n",
        "            }\n",
        "        },\n",
        "        \"languages_required\": {\n",
        "            \"type\": \"nested\",\n",
        "            \"properties\": {\n",
        "                \"language\": {\"type\": \"text\"},\n",
        "                \"proficiency\": {\"type\": \"keyword\"}\n",
        "            }\n",
        "        },\n",
        "        \"technologies_used\": {\"type\": \"keyword\"},\n",
        "        \"compensation\": {\n",
        "            \"properties\": {\n",
        "                \"salary_range\": {\n",
        "                    \"properties\": {\n",
        "                        \"min\": {\"type\": \"keyword\"},\n",
        "                        \"max\": {\"type\": \"keyword\"}\n",
        "                    }\n",
        "                },\n",
        "                \"equity\": {\"type\": \"boolean\"},\n",
        "                \"bonuses\": {\"type\": \"boolean\"}\n",
        "            }\n",
        "        },\n",
        "        \"benefits\": {\"type\": \"keyword\"},\n",
        "        \"company_culture\": {\"type\": \"text\"},\n",
        "        \"recruiter_contact\": {\n",
        "            \"properties\": {\n",
        "                \"name\": {\"type\": \"text\"},\n",
        "                \"email\": {\"type\": \"keyword\"},\n",
        "                \"phone\": {\"type\": \"keyword\"}\n",
        "            }\n",
        "        },\n",
        "        \"application_deadline\": {\"type\": \"date\", \"format\": \"yyyy-MM-dd\"}\n",
        "    }\n",
        "}\n"
      ],
      "metadata": {
        "id": "y0ySce_v8uxd"
      },
      "execution_count": null,
      "outputs": []
    },
    {
      "cell_type": "markdown",
      "source": [
        "##Create joblake"
      ],
      "metadata": {
        "id": "wwbA1msc89MD"
      }
    },
    {
      "cell_type": "code",
      "source": [
        "from groclake.joblake import Joblake\n",
        "\n",
        "joblake = Joblake('550e8400-e29b-41d4-a716-446655440000')\n",
        "\n",
        "data_create = joblake.create('software_dev_jobs')\n",
        "print(\"data_create----\", data_create)"
      ],
      "metadata": {
        "id": "fJ8mH8eU88Bt"
      },
      "execution_count": null,
      "outputs": []
    },
    {
      "cell_type": "markdown",
      "source": [
        "#ResumeLake Mapping"
      ],
      "metadata": {
        "id": "DkZP7CUT92PX"
      }
    },
    {
      "cell_type": "code",
      "source": [
        "resumelake_mapping = {\n",
        "        \"properties\": {\n",
        "            \"candidate_name\": {\"type\": \"text\"},\n",
        "            \"candidate_email\": {\"type\": \"keyword\"},\n",
        "            \"candidate_phone\": {\"type\": \"keyword\"},\n",
        "            \"candidate_city\": {\"type\": \"text\"},\n",
        "            \"candidate_state\": {\"type\": \"text\"},\n",
        "            \"candidate_country\": {\"type\": \"text\"},\n",
        "            \"linkedin_profile\": {\"type\": \"keyword\"},\n",
        "            \"github_profile\": {\"type\": \"keyword\"},\n",
        "            \"portfolio_website\": {\"type\": \"keyword\"},\n",
        "            \"current_designation\": {\"type\": \"text\"},\n",
        "            \"current_company\": {\"type\": \"text\"},\n",
        "            \"current_company_industry\": {\"type\": \"text\"},\n",
        "            \"current_company_size\": {\"type\": \"keyword\"},\n",
        "            \"current_company_start_date\": {\"type\": \"date\", \"format\": \"yyyy-MM\"},\n",
        "            \"previous_experience\": {\n",
        "                \"type\": \"nested\",\n",
        "                \"properties\": {\n",
        "                    \"designation\": {\"type\": \"text\"},\n",
        "                    \"company\": {\"type\": \"text\"},\n",
        "                    \"industry\": {\"type\": \"text\"},\n",
        "                    \"start_date\": {\"type\": \"date\", \"format\": \"yyyy-MM\"},\n",
        "                    \"end_date\": {\"type\": \"date\", \"format\": \"yyyy-MM\"},\n",
        "                    \"location\": {\"type\": \"text\"}\n",
        "                }\n",
        "            },\n",
        "            \"total_work_experience\": {\"type\": \"keyword\"},\n",
        "            \"education\": {\n",
        "                \"type\": \"nested\",\n",
        "                \"properties\": {\n",
        "                    \"degree\": {\"type\": \"text\"},\n",
        "                    \"major\": {\"type\": \"text\"},\n",
        "                    \"university\": {\"type\": \"text\"},\n",
        "                    \"graduation_year\": {\"type\": \"integer\"}\n",
        "                }\n",
        "            },\n",
        "            \"skills\": {\"type\": \"keyword\"},\n",
        "            \"certifications\": {\n",
        "                \"type\": \"nested\",\n",
        "                \"properties\": {\n",
        "                    \"name\": {\"type\": \"text\"},\n",
        "                    \"issuing_organization\": {\"type\": \"text\"},\n",
        "                    \"issue_date\": {\"type\": \"date\", \"format\": \"yyyy-MM\"}\n",
        "                }\n",
        "            },\n",
        "            \"languages\": {\n",
        "                \"type\": \"nested\",\n",
        "                \"properties\": {\n",
        "                    \"language\": {\"type\": \"text\"},\n",
        "                    \"proficiency\": {\"type\": \"keyword\"}\n",
        "                }\n",
        "            },\n",
        "            \"projects\": {\n",
        "                \"type\": \"nested\",\n",
        "                \"properties\": {\n",
        "                    \"title\": {\"type\": \"text\"},\n",
        "                    \"description\": {\"type\": \"text\"},\n",
        "                    \"technologies\": {\"type\": \"keyword\"},\n",
        "                    \"role\": {\"type\": \"text\"}\n",
        "                }\n",
        "            },\n",
        "            \"publications\": {\n",
        "                \"type\": \"nested\",\n",
        "                \"properties\": {\n",
        "                    \"title\": {\"type\": \"text\"},\n",
        "                    \"publication\": {\"type\": \"text\"},\n",
        "                    \"year\": {\"type\": \"integer\"}\n",
        "                }\n",
        "            },\n",
        "            \"awards\": {\n",
        "                \"type\": \"nested\",\n",
        "                \"properties\": {\n",
        "                    \"title\": {\"type\": \"text\"},\n",
        "                    \"organization\": {\"type\": \"text\"},\n",
        "                    \"year\": {\"type\": \"integer\"}\n",
        "                }\n",
        "            },\n",
        "            \"references\": {\n",
        "                \"type\": \"nested\",\n",
        "                \"properties\": {\n",
        "                    \"name\": {\"type\": \"text\"},\n",
        "                    \"designation\": {\"type\": \"text\"},\n",
        "                    \"company\": {\"type\": \"text\"},\n",
        "                    \"email\": {\"type\": \"keyword\"}\n",
        "                }\n",
        "            }\n",
        "        }\n",
        "    }\n"
      ],
      "metadata": {
        "id": "bn_sWPR797mm"
      },
      "execution_count": null,
      "outputs": []
    },
    {
      "cell_type": "markdown",
      "source": [
        "##Create Resumelake"
      ],
      "metadata": {
        "id": "mv45Vhqa-DPQ"
      }
    },
    {
      "cell_type": "code",
      "source": [
        "from groclake.resumelake import Resumelake\n",
        "\n",
        "\n",
        "resumelake=Resumelake('f47ac10b-58cc-4372-a567-0e0282c3d396') #your undex uuid\n",
        "\n",
        "data_create = resumelake.create('resumelake')\n",
        "print(\"data_create----\", data_create)\n"
      ],
      "metadata": {
        "id": "hq9EDmvy-C4-"
      },
      "execution_count": null,
      "outputs": []
    },
    {
      "cell_type": "markdown",
      "source": [
        "#Push"
      ],
      "metadata": {
        "id": "fLHjiovsbJqC"
      }
    },
    {
      "cell_type": "code",
      "source": [
        "push_result = resumelake.push(r\"C:\\Users\\Lenovo\\OneDrive\\Desktop\\SayaliDATIR .pdf\")\n",
        "print(\"push results\",push_result)"
      ],
      "metadata": {
        "id": "KbVd4ef3bAe1"
      },
      "execution_count": null,
      "outputs": []
    },
    {
      "cell_type": "markdown",
      "source": [
        "#Search"
      ],
      "metadata": {
        "id": "lIOaGQ-8bPRh"
      }
    },
    {
      "cell_type": "code",
      "source": [
        "index_id = \"rs33tujeu5jjwkuyznnnnnvvzzmmnpp\"\n",
        "\n",
        "search_payload = {\n",
        "    'query': {\n",
        "        'terms': {\n",
        "            'skills': ['React.js', 'Ember.js', 'JavaScript', 'Node.js', 'PHP', 'AWS', 'MySQL']\n",
        "        }\n",
        "    }\n",
        "}\n",
        "\n",
        "search_results = resumelake.search(index_id, search_payload)"
      ],
      "metadata": {
        "id": "z1axmjWjbV-j"
      },
      "execution_count": null,
      "outputs": []
    }
  ]
}